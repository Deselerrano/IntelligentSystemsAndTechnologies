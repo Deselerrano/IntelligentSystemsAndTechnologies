{
 "cells": [
  {
   "cell_type": "markdown",
   "id": "1ad69cc6",
   "metadata": {},
   "source": [
    "Задание.\n",
    "Необходимо, пользуясь набором данных train.csv, обучить классификатор на основе алгоритма деревьев принятия решений и проверить качество обучения. Данные для обучения представляют собой csv-таблицу, в первой колонке которой — численные значения написанных цифр, в остальных — 784 значения насыщенности отдельно взятых пикселей (картинки черно-белые)."
   ]
  },
  {
   "cell_type": "markdown",
   "id": "8e256184",
   "metadata": {},
   "source": [
    "Загружаем необходимые библиотеки"
   ]
  },
  {
   "cell_type": "code",
   "execution_count": 1,
   "id": "a9a26554",
   "metadata": {},
   "outputs": [],
   "source": [
    "from numpy import savetxt, loadtxt"
   ]
  },
  {
   "cell_type": "code",
   "execution_count": 10,
   "id": "1337cb1a",
   "metadata": {},
   "outputs": [],
   "source": [
    "from sklearn.ensemble import RandomForestClassiefier"
   ]
  },
  {
   "cell_type": "code",
   "execution_count": 28,
   "id": "5b695a78",
   "metadata": {},
   "outputs": [],
   "source": [
    "from sklearn.tree import DecisionTreeClassifier"
   ]
  },
  {
   "cell_type": "code",
   "execution_count": 11,
   "id": "0f6cbbea",
   "metadata": {},
   "outputs": [],
   "source": [
    "from sklearn import svm"
   ]
  },
  {
   "cell_type": "code",
   "execution_count": 12,
   "id": "c82c854a",
   "metadata": {},
   "outputs": [],
   "source": [
    "from sklearn import neighbors"
   ]
  },
  {
   "cell_type": "code",
   "execution_count": 1,
   "id": "f25d6d52",
   "metadata": {},
   "outputs": [],
   "source": [
    "from sklearn.model_selection import train_test_split"
   ]
  },
  {
   "cell_type": "code",
   "execution_count": 13,
   "id": "67a1408e",
   "metadata": {},
   "outputs": [],
   "source": [
    "import joblib"
   ]
  },
  {
   "cell_type": "markdown",
   "id": "013c9336",
   "metadata": {},
   "source": [
    "Далее делим набор данных на обучающие и тестовые (70% и 30%). "
   ]
  },
  {
   "cell_type": "markdown",
   "id": "91d05ecb",
   "metadata": {},
   "source": [
    "Зесь напишите ваш код"
   ]
  },
  {
   "cell_type": "markdown",
   "id": "fbe48f35",
   "metadata": {},
   "source": [
    "Загружаем обучающие данные и создаем из них дамп (чтобы не хранить в оперативной памяти)"
   ]
  },
  {
   "cell_type": "code",
   "execution_count": 15,
   "id": "14c2a3ea",
   "metadata": {},
   "outputs": [],
   "source": [
    "dataset = loadtxt(open('train.csv', 'r'), dtype='f8', delimiter=',', skiprows=1)\n",
    "joblib.dump(dataset, 'training_set.pkl')\n",
    "dataset = joblib.load('training_set.pkl')"
   ]
  },
  {
   "cell_type": "markdown",
   "id": "480ea5a3",
   "metadata": {},
   "source": [
    "Из обучающей части выделите целевую переменную и остальную часть"
   ]
  },
  {
   "cell_type": "code",
   "execution_count": 19,
   "id": "82e0a772",
   "metadata": {},
   "outputs": [],
   "source": [
    "target = [x[0] for x in dataset]\n",
    "train = [x[1:] for x in dataset]"
   ]
  },
  {
   "cell_type": "markdown",
   "id": "2978bf9e",
   "metadata": {},
   "source": [
    "Точно так же сохраните тестовую выборку (без целевой переменной) в файл test_set.pkl"
   ]
  },
  {
   "cell_type": "code",
   "execution_count": null,
   "id": "7d37100d",
   "metadata": {},
   "outputs": [],
   "source": [
    "Зесь напишите ваш код"
   ]
  },
  {
   "cell_type": "markdown",
   "id": "dc504b8a",
   "metadata": {},
   "source": [
    "Обучение дерева принятия решений"
   ]
  },
  {
   "cell_type": "markdown",
   "id": "3f092b1a",
   "metadata": {},
   "source": [
    "Ваш код"
   ]
  },
  {
   "cell_type": "markdown",
   "id": "ef8799cc",
   "metadata": {},
   "source": [
    "Запишите результат классификации на тестовом наборе, сохраненном в виде дампа test_set.pkl, в файл tree_answer.csv"
   ]
  },
  {
   "cell_type": "code",
   "execution_count": null,
   "id": "544a5747",
   "metadata": {},
   "outputs": [],
   "source": [
    "test = joblib.load('test_set.pkl')\n",
    "savetxt('tree_answer.csv',tree.predict(test),delimiter=',', fmt='%d')"
   ]
  },
  {
   "cell_type": "markdown",
   "id": "b68c4e83",
   "metadata": {},
   "source": [
    "Оцените качество классификации при помощи метрики accuaracy_score (почитайте самостоятельно)"
   ]
  },
  {
   "cell_type": "code",
   "execution_count": 6,
   "id": "a245f98d",
   "metadata": {},
   "outputs": [],
   "source": [
    "from sklearn.metrics import accuracy_score"
   ]
  },
  {
   "cell_type": "markdown",
   "id": "3f50d8ef",
   "metadata": {},
   "source": [
    "Ваш код"
   ]
  }
 ],
 "metadata": {
  "kernelspec": {
   "display_name": "Python 3 (ipykernel)",
   "language": "python",
   "name": "python3"
  },
  "language_info": {
   "codemirror_mode": {
    "name": "ipython",
    "version": 3
   },
   "file_extension": ".py",
   "mimetype": "text/x-python",
   "name": "python",
   "nbconvert_exporter": "python",
   "pygments_lexer": "ipython3",
   "version": "3.11.1"
  }
 },
 "nbformat": 4,
 "nbformat_minor": 5
}
