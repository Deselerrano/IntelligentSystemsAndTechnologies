{
 "cells": [
  {
   "cell_type": "markdown",
   "id": "cabc9cc3",
   "metadata": {},
   "source": [
    "Загрузим датасет MNIST"
   ]
  },
  {
   "cell_type": "code",
   "execution_count": 1,
   "id": "14229c98",
   "metadata": {},
   "outputs": [],
   "source": [
    "import tensorflow as tf\n",
    "(x_train, y_train), (x_test, y_test) = tf.keras.datasets.mnist.load_data()"
   ]
  },
  {
   "cell_type": "markdown",
   "id": "09a459c6",
   "metadata": {},
   "source": [
    "Визуализируем число"
   ]
  },
  {
   "cell_type": "code",
   "execution_count": 4,
   "id": "41bcfa7c",
   "metadata": {},
   "outputs": [
    {
     "name": "stdout",
     "output_type": "stream",
     "text": [
      "2\n"
     ]
    },
    {
     "data": {
      "text/plain": [
       "<matplotlib.image.AxesImage at 0x22f67266430>"
      ]
     },
     "execution_count": 4,
     "metadata": {},
     "output_type": "execute_result"
    },
    {
     "data": {
      "image/png": "[encoded data removed]",
      "text/plain": [
       "<Figure size 432x288 with 1 Axes>"
      ]
     },
     "metadata": {
      "needs_background": "light"
     },
     "output_type": "display_data"
    }
   ],
   "source": [
    "import matplotlib.pyplot as plt\n",
    "%matplotlib inline \n",
    "image_index = 555\n",
    "print(y_train[image_index]) \n",
    "plt.imshow(x_train[image_index], cmap='Greys')"
   ]
  },
  {
   "cell_type": "markdown",
   "id": "af73fe85",
   "metadata": {},
   "source": [
    "Форма набора данных"
   ]
  },
  {
   "cell_type": "code",
   "execution_count": 5,
   "id": "8b6c1f90",
   "metadata": {},
   "outputs": [
    {
     "data": {
      "text/plain": [
       "(60000, 28, 28)"
      ]
     },
     "execution_count": 5,
     "metadata": {},
     "output_type": "execute_result"
    }
   ],
   "source": [
    "x_train.shape"
   ]
  },
  {
   "cell_type": "markdown",
   "id": "5354c46b",
   "metadata": {},
   "source": [
    "Чтобы иметь возможность использовать набор данных в Keras API, нам нужны массивы 4-dims numpy"
   ]
  },
  {
   "cell_type": "markdown",
   "id": "27b677ea",
   "metadata": {},
   "source": [
    "Нормализуем данные"
   ]
  },
  {
   "cell_type": "code",
   "execution_count": 6,
   "id": "2fe65741",
   "metadata": {},
   "outputs": [
    {
     "name": "stdout",
     "output_type": "stream",
     "text": [
      "x_train shape: (60000, 28, 28, 1)\n",
      "Number of images in x_train 60000\n",
      "Number of images in x_test 10000\n"
     ]
    }
   ],
   "source": [
    "x_train = x_train.reshape(x_train.shape[0], 28, 28, 1)\n",
    "x_test = x_test.reshape(x_test.shape[0], 28, 28, 1)\n",
    "input_shape = (28, 28, 1)\n",
    "x_train = x_train.astype('float32')\n",
    "x_test = x_test.astype('float32')\n",
    "x_train /= 255\n",
    "x_test /= 255\n",
    "print('x_train shape:', x_train.shape)\n",
    "print('Number of images in x_train', x_train.shape[0])\n",
    "print('Number of images in x_test', x_test.shape[0])"
   ]
  },
  {
   "cell_type": "markdown",
   "id": "dea9ede9",
   "metadata": {},
   "source": [
    "Импортируем последовательную модель из Keras и добавим слои Conv2D, MaxPooling, Flatten, Dropout и Dense."
   ]
  },
  {
   "cell_type": "code",
   "execution_count": 7,
   "id": "e7b02370",
   "metadata": {},
   "outputs": [],
   "source": [
    "from keras.models import Sequential\n",
    "from keras.layers import Dense, Conv2D, Dropout, Flatten, MaxPooling2D\n",
    "model = Sequential()\n",
    "model.add(Conv2D(28, kernel_size=(3,3), input_shape=input_shape))\n",
    "model.add(MaxPooling2D(pool_size=(2, 2)))\n",
    "model.add(Flatten()) \n",
    "model.add(Dense(128, activation=tf.nn.relu))\n",
    "model.add(Dropout(0.2))\n",
    "model.add(Dense(10,activation=tf.nn.softmax))"
   ]
  },
  {
   "cell_type": "markdown",
   "id": "e4fb47b7",
   "metadata": {},
   "source": [
    "Подберем модель"
   ]
  },
  {
   "cell_type": "code",
   "execution_count": 8,
   "id": "9802463c",
   "metadata": {},
   "outputs": [
    {
     "name": "stdout",
     "output_type": "stream",
     "text": [
      "Epoch 1/4\n",
      "1875/1875 [==============================] - 44s 23ms/step - loss: 0.2085 - accuracy: 0.9368\n",
      "Epoch 2/4\n",
      "1875/1875 [==============================] - 46s 24ms/step - loss: 0.0832 - accuracy: 0.9741\n",
      "Epoch 3/4\n",
      "1875/1875 [==============================] - 48s 26ms/step - loss: 0.0593 - accuracy: 0.9812\n",
      "Epoch 4/4\n",
      "1875/1875 [==============================] - 49s 26ms/step - loss: 0.0437 - accuracy: 0.9855\n"
     ]
    },
    {
     "data": {
      "text/plain": [
       "<keras.callbacks.History at 0x22f7460c580>"
      ]
     },
     "execution_count": 8,
     "metadata": {},
     "output_type": "execute_result"
    }
   ],
   "source": [
    "model.compile(optimizer='adam', \n",
    "              loss='sparse_categorical_crossentropy', \n",
    "              metrics=['accuracy'])\n",
    "model.fit(x=x_train,y=y_train, epochs=4)"
   ]
  },
  {
   "cell_type": "markdown",
   "id": "6604206b",
   "metadata": {},
   "source": [
    "Оценим модель"
   ]
  },
  {
   "cell_type": "code",
   "execution_count": 9,
   "id": "d51a48c6",
   "metadata": {},
   "outputs": [
    {
     "name": "stdout",
     "output_type": "stream",
     "text": [
      "313/313 [==============================] - 3s 9ms/step - loss: 0.0532 - accuracy: 0.9842\n"
     ]
    },
    {
     "data": {
      "text/plain": [
       "[0.05323036015033722, 0.9842000007629395]"
      ]
     },
     "execution_count": 9,
     "metadata": {},
     "output_type": "execute_result"
    }
   ],
   "source": [
    "model.evaluate(x_test, y_test)"
   ]
  },
  {
   "cell_type": "markdown",
   "id": "bab36656",
   "metadata": {},
   "source": [
    "Индивидуальный прогноз"
   ]
  },
  {
   "cell_type": "code",
   "execution_count": 19,
   "id": "33f88586",
   "metadata": {},
   "outputs": [
    {
     "name": "stdout",
     "output_type": "stream",
     "text": [
      "[[4.5229814e-14 4.2657411e-10 1.4334673e-06 9.9997938e-01 5.3726108e-09\n",
      "  5.5671845e-10 1.1516637e-14 1.9154446e-05 1.4672033e-08 4.4211323e-10]]\n"
     ]
    },
    {
     "data": {
      "image/png": "[encoded data removed]",
      "text/plain": [
       "<Figure size 432x288 with 1 Axes>"
      ]
     },
     "metadata": {
      "needs_background": "light"
     },
     "output_type": "display_data"
    }
   ],
   "source": [
    "image_index = 87\n",
    "plt.imshow(x_test[image_index].reshape(28, 28),cmap='Greys')\n",
    "pred = model.predict(x_test[image_index].reshape(1, 28, 28, 1))\n",
    "print(pred)"
   ]
  },
  {
   "cell_type": "code",
   "execution_count": null,
   "id": "b9d260f8",
   "metadata": {},
   "outputs": [],
   "source": []
  }
 ],
 "metadata": {
  "kernelspec": {
   "display_name": "Python 3 (ipykernel)",
   "language": "python",
   "name": "python3"
  },
  "language_info": {
   "codemirror_mode": {
    "name": "ipython",
    "version": 3
   },
   "file_extension": ".py",
   "mimetype": "text/x-python",
   "name": "python",
   "nbconvert_exporter": "python",
   "pygments_lexer": "ipython3",
   "version": "3.11.1"
  }
 },
 "nbformat": 4,
 "nbformat_minor": 5
}
